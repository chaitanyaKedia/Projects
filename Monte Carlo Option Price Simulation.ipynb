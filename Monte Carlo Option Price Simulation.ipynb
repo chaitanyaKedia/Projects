{
 "cells": [
  {
   "cell_type": "code",
   "execution_count": 269,
   "metadata": {},
   "outputs": [],
   "source": [
    "import sys\n",
    "import math\n",
    "from scipy.stats import norm\n",
    "import matplotlib.pyplot as plt\n",
    "class black_scholes_options:\n",
    "    def __init__(self,inp):\n",
    "\n",
    "        self.spot= inp[0]\n",
    "        self.strike=inp[1]\n",
    "        self.t=inp[2]\n",
    "        self.i_vol=inp[3]/100\n",
    "        self.nature=inp[4]\n",
    "        self.r=inp[5]/100\n",
    "        self.d=inp[6]/100\n",
    "        global div,free\n",
    "        div=math.e**(-self.d*self.t)\n",
    "        free=math.e**(-self.r*self.t)\n",
    "        denom=self.i_vol*math.sqrt(self.t)\n",
    "        self.d1=(math.log(self.spot/self.strike,math.e)+self.t*(self.r-self.d+0.5*self.i_vol**2))/denom\n",
    "        self.d2=self.d1-denom\n",
    "      \n",
    "    def call(self):\n",
    "        val = round(self.spot*div*norm.cdf(self.d1)- self.strike*free*norm.cdf(self.d2),4)\n",
    "        return val\n",
    "\n",
    "    def put(self):\n",
    "        val =  round(self.strike*free*norm.cdf(-self.d2)-self.spot*div*norm.cdf(-self.d1),4)\n",
    "        return val"
   ]
  },
  {
   "cell_type": "code",
   "execution_count": 279,
   "metadata": {},
   "outputs": [],
   "source": [
    "class monte_carlo_options:\n",
    "    def __init__(self,inp):\n",
    "\n",
    "        self.spot= inp[0]\n",
    "        self.strike=inp[1]\n",
    "        self.t=inp[2]\n",
    "        self.i_vol=inp[3]/100\n",
    "        self.nature=inp[4]\n",
    "        self.r=inp[5]/100\n",
    "        self.d=inp[6]/100\n",
    "    def call(self):\n",
    "        rand_nums=np.random.randn(5000000)\n",
    "        S_T=np.array(self.spot*(math.e**(((self.r-self.d-0.5*(self.i_vol**2))*self.t + self.i_vol*rand_nums*math.sqrt(self.t)))))\n",
    "        S_T = S_T[np.logical_and(S_T<1.15 * S_T, S_T> 0.85 * S_T)]\n",
    "        val=np.maximum(S_T-self.strike,0)\n",
    "        ca=(math.e**(-self.r*self.t))*np.mean(val)\n",
    "        return round(ca,4)\n",
    "\n",
    "    def put(self):\n",
    "        rand_nums=np.random.randn(5000000)\n",
    "        S_T=self.spot*(math.e**(((self.r-self.d-0.5*(self.i_vol**2))*self.t + self.i_vol*rand_nums*math.sqrt(self.t))))\n",
    "        S_T = S_T[np.logical_and(S_T<1.05 * S_T, S_T> 0.95 * S_T)]\n",
    "        val=np.maximum(self.strike-S_T,0)    \n",
    "        pu=(math.e**(-self.r*self.t))*np.mean(val)\n",
    "        return round(pu,4)\n",
    "\n",
    "\n"
   ]
  },
  {
   "cell_type": "code",
   "execution_count": 303,
   "metadata": {},
   "outputs": [
    {
     "name": "stdout",
     "output_type": "stream",
     "text": [
      "0.4607\n",
      "0.461\n"
     ]
    }
   ],
   "source": [
    "S0 = 74.92\n",
    "t = 17/252\n",
    "vol = 5\n",
    "strike = 75\n",
    "risk_free_rate = 100*np.log(75.19/74.92) * 252/21\n",
    "divs = 0\n",
    "details = [S0, strike, t, vol, \"call\",risk_free_rate,divs]x\\\\\n",
    "\n",
    "contract_black_scholes=black_scholes_options(details)\n",
    "contract_monte=monte_carlo_options(details)\n",
    "\n",
    "if contract_black_scholes.nature.lower()==\"call\":\n",
    "    print(contract_black_scholes.call())\n",
    "elif contract_black_scholes.nature.lower()==\"put\":\n",
    "    print(contract_black_scholes.put())\n",
    "\n",
    "if contract_monte.nature.lower()==\"call\":\n",
    "    print(contract_monte.call())\n",
    "elif contract_monte.nature.lower()==\"put\":\n",
    "    print(contract_monte.put())\n"
   ]
  },
  {
   "cell_type": "code",
   "execution_count": 292,
   "metadata": {},
   "outputs": [
    {
     "name": "stdout",
     "output_type": "stream",
     "text": [
      "220.2515\n",
      "220.1939\n"
     ]
    }
   ],
   "source": [
    "S0 = 15722.2\n",
    "t = 18/252\n",
    "vol = 11.1\n",
    "strike = 15700\n",
    "risk_free_rate = 100*np.log(15793.15/15747.2) * 252/19\n",
    "divs = 0\n",
    "details = [S0, strike, t, vol, \"call\",risk_free_rate,divs]\n",
    "\n",
    "contract_black_scholes=black_scholes_options(details)\n",
    "contract_monte=monte_carlo_options(details)\n",
    "\n",
    "if contract_black_scholes.nature.lower()==\"call\":\n",
    "    print(contract_black_scholes.call())\n",
    "elif contract_black_scholes.nature.lower()==\"put\":\n",
    "    print(contract_black_scholes.put())\n",
    "\n",
    "if contract_monte.nature.lower()==\"call\":\n",
    "    print(contract_monte.call())\n",
    "elif contract_monte.nature.lower()==\"put\":\n",
    "    print(contract_monte.put())\n"
   ]
  },
  {
   "cell_type": "code",
   "execution_count": 295,
   "metadata": {},
   "outputs": [
    {
     "data": {
      "text/plain": [
       "4.316838976857189"
      ]
     },
     "execution_count": 295,
     "metadata": {},
     "output_type": "execute_result"
    }
   ],
   "source": [
    "risk_free_rate"
   ]
  }
 ],
 "metadata": {
  "kernelspec": {
   "display_name": "Python 3",
   "language": "python",
   "name": "python3"
  },
  "language_info": {
   "codemirror_mode": {
    "name": "ipython",
    "version": 3
   },
   "file_extension": ".py",
   "mimetype": "text/x-python",
   "name": "python",
   "nbconvert_exporter": "python",
   "pygments_lexer": "ipython3",
   "version": "3.8.3"
  }
 },
 "nbformat": 4,
 "nbformat_minor": 4
}
