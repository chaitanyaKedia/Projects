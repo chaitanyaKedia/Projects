{
 "cells": [
  {
   "cell_type": "code",
   "execution_count": 1,
   "metadata": {},
   "outputs": [],
   "source": [
    "import math"
   ]
  },
  {
   "cell_type": "code",
   "execution_count": 2,
   "metadata": {},
   "outputs": [],
   "source": [
    "#Call\n",
    "call=[[260,17.55],[265,14.8],[270,11.95],[275,9.55],[280,7.7]]\n",
    "\n",
    "#Put\n",
    "put=[[260,5],[265,6.7],[270,8.85],[275,11.6],[280,14.55]]"
   ]
  },
  {
   "cell_type": "code",
   "execution_count": 3,
   "metadata": {},
   "outputs": [
    {
     "name": "stdout",
     "output_type": "stream",
     "text": [
      "Short the box\n",
      "Sell Call of 260 @ 17.55\n",
      "Buy Call of 280 @ 7.7\n",
      "Sell Put of 280 @ 14.55\n",
      "Buy Put of 260 @ 5\n",
      "Profit Per unit of box is Rs 0.55\n"
     ]
    }
   ],
   "source": [
    "t = 1.00/12\n",
    "r=3.11/100\n",
    "\n",
    "l=len(call)\n",
    "\n",
    "diff = 0\n",
    "val= [0,0,0,0,0,0]\n",
    "for i in range(l):\n",
    "    for j in range(i+1,l):\n",
    "        \n",
    "        l_strike=call[i][0]\n",
    "        h_strike=call[j][0]\n",
    "        \n",
    "        c_l = call[i][1]\n",
    "        c_h = call[j][1]\n",
    "        p_l = put[i][1]\n",
    "        p_h = put[j][1]\n",
    "        \n",
    "        payoff = h_strike-l_strike - (p_h - p_l + c_l-c_h)\n",
    "        base = (h_strike-l_strike) * (1 - math.e**(-r*t))\n",
    "        \n",
    "        if abs(payoff-base)>diff:\n",
    "            diff=abs(payoff-base)\n",
    "            val=[l_strike,h_strike,c_l,c_h,p_l,p_h]\n",
    "\n",
    "payoff = val[1]-val[0] - (val[-1] - val[-2] + val[2]-val[3])\n",
    "base = (val[1]-val[0]) * (1 - math.e**(-r*t))\n",
    "if payoff<base:\n",
    "    print(\"Buy the box\")\n",
    "    print(\"Buy Call of \"+str(val[0]) + \" @ \" + str(val[2]))\n",
    "    print(\"Sell Call of \" + str(val[1]) + \" @ \" + str(val[3]))\n",
    "    print(\"Buy Put of \" + str(val[1]) + \" @ \" + str(val[-1]))\n",
    "    print(\"Sell Put of \" + str(val[0]) + \" @ \" + str(val[-2]))\n",
    "    print(\"Profit Per unit of box is Rs\" + str(round(abs(payoff-base),2)))\n",
    "elif payoff>base:\n",
    "    print(\"Short the box\")\n",
    "    print(\"Sell Call of \"+str(val[0]) + \" @ \" + str(val[2]))\n",
    "    print(\"Buy Call of \" + str(val[1]) + \" @ \" + str(val[3]))\n",
    "    print(\"Sell Put of \" + str(val[1]) + \" @ \" + str(val[-1]))\n",
    "    print(\"Buy Put of \" + str(val[0]) + \" @ \" + str(val[-2]))\n",
    "    print(\"Profit Per unit of box is Rs \" + str(round(abs(payoff-base),2)))"
   ]
  },
  {
   "cell_type": "code",
   "execution_count": null,
   "metadata": {},
   "outputs": [],
   "source": []
  },
  {
   "cell_type": "code",
   "execution_count": null,
   "metadata": {},
   "outputs": [],
   "source": []
  },
  {
   "cell_type": "code",
   "execution_count": null,
   "metadata": {},
   "outputs": [],
   "source": []
  }
 ],
 "metadata": {
  "kernelspec": {
   "display_name": "Python 3",
   "language": "python",
   "name": "python3"
  },
  "language_info": {
   "codemirror_mode": {
    "name": "ipython",
    "version": 3
   },
   "file_extension": ".py",
   "mimetype": "text/x-python",
   "name": "python",
   "nbconvert_exporter": "python",
   "pygments_lexer": "ipython3",
   "version": "3.8.3"
  }
 },
 "nbformat": 4,
 "nbformat_minor": 4
}
