{
 "cells": [
  {
   "cell_type": "code",
   "execution_count": 4,
   "metadata": {},
   "outputs": [],
   "source": [
    "from scipy.stats import norm\n",
    "import numpy as np"
   ]
  },
  {
   "cell_type": "code",
   "execution_count": 122,
   "metadata": {},
   "outputs": [],
   "source": [
    "S0 = 13749.25\n",
    "T= 4/252\n",
    "# T=18/252\n",
    "# T = 38/252\n",
    "K = 14200\n",
    "r = 5.93/100 \n",
    "# sigma = 0.102*np.sqrt(375*252)/100"
   ]
  },
  {
   "cell_type": "code",
   "execution_count": 123,
   "metadata": {},
   "outputs": [],
   "source": [
    "def calc_d1_d2(S0,K,r,sigma,T):\n",
    "    d1= (np.log(S0/K) + (r + 0.5*sigma**2)*T)/(sigma*np.sqrt(T))\n",
    "    d2 = d1 - sigma * np.sqrt(T)\n",
    "    return [d1,d2,sigma]\n",
    "\n",
    "def calc_c_p(S0,d1,K,r,T,d2):\n",
    "    c = S0 * norm.cdf(d1) - K * np.exp(-r * T) * norm.cdf(d2)\n",
    "    p = c + K*np.exp(-r*T) - S0\n",
    "    return [c,p]"
   ]
  },
  {
   "cell_type": "code",
   "execution_count": 124,
   "metadata": {},
   "outputs": [],
   "source": [
    "arr = np.linspace(0.01,1,50000)\n",
    "val=[]\n",
    "for sigma in arr:\n",
    "    val.append(calc_d1_d2(S0,K,r,sigma,T))"
   ]
  },
  {
   "cell_type": "code",
   "execution_count": 125,
   "metadata": {},
   "outputs": [
    {
     "name": "stdout",
     "output_type": "stream",
     "text": [
      "4.592831075830759 441.98308787785936 0.1455337106742135\n"
     ]
    }
   ],
   "source": [
    "for d1,d2,sigma in val:\n",
    "    [c,p] = calc_c_p(S0,d1,K,r,T,d2)\n",
    "    if(abs(c - 4.6)<0.01):\n",
    "        print(c,p,sigma)\n",
    "        break"
   ]
  },
  {
   "cell_type": "code",
   "execution_count": 87,
   "metadata": {},
   "outputs": [
    {
     "data": {
      "text/plain": [
       "[64.54424806053248, 51.51379430758243]"
      ]
     },
     "execution_count": 87,
     "metadata": {},
     "output_type": "execute_result"
    }
   ],
   "source": [
    "[d1,d2,sigma]= calc_d1_d2(S0,K,r,sigma,T)\n",
    "calc_c_p(S0,d1,K,r,T,d2)"
   ]
  },
  {
   "cell_type": "code",
   "execution_count": null,
   "metadata": {},
   "outputs": [],
   "source": []
  },
  {
   "cell_type": "code",
   "execution_count": null,
   "metadata": {},
   "outputs": [],
   "source": []
  }
 ],
 "metadata": {
  "kernelspec": {
   "display_name": "Python 3",
   "language": "python",
   "name": "python3"
  },
  "language_info": {
   "codemirror_mode": {
    "name": "ipython",
    "version": 3
   },
   "file_extension": ".py",
   "mimetype": "text/x-python",
   "name": "python",
   "nbconvert_exporter": "python",
   "pygments_lexer": "ipython3",
   "version": "3.8.3"
  }
 },
 "nbformat": 4,
 "nbformat_minor": 4
}
